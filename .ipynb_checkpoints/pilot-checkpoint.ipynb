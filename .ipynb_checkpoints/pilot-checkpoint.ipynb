{
 "cells": [
  {
   "cell_type": "code",
   "execution_count": 1,
   "id": "cdf4b530",
   "metadata": {},
   "outputs": [],
   "source": [
    "import spacy"
   ]
  },
  {
   "cell_type": "code",
   "execution_count": 2,
   "id": "7f74c8de",
   "metadata": {},
   "outputs": [],
   "source": [
    "english = spacy.load(\"en_core_web_sm\")"
   ]
  },
  {
   "cell_type": "code",
   "execution_count": 3,
   "id": "f366c8cb",
   "metadata": {},
   "outputs": [],
   "source": [
    "doc1 = english(\"hey shubham, can you tell me date\")"
   ]
  },
  {
   "cell_type": "code",
   "execution_count": 4,
   "id": "fb49cb28",
   "metadata": {},
   "outputs": [
    {
     "data": {
      "text/plain": [
       "hey shubham, can you tell me date"
      ]
     },
     "execution_count": 4,
     "metadata": {},
     "output_type": "execute_result"
    }
   ],
   "source": [
    "doc1"
   ]
  },
  {
   "cell_type": "code",
   "execution_count": 5,
   "id": "276e139b",
   "metadata": {},
   "outputs": [
    {
     "data": {
      "text/plain": [
       "spacy.tokens.doc.Doc"
      ]
     },
     "execution_count": 5,
     "metadata": {},
     "output_type": "execute_result"
    }
   ],
   "source": [
    "type(doc1)"
   ]
  },
  {
   "cell_type": "code",
   "execution_count": 6,
   "id": "3859efba",
   "metadata": {},
   "outputs": [
    {
     "name": "stdout",
     "output_type": "stream",
     "text": [
      "hey <class 'spacy.tokens.token.Token'>\n",
      "shubham <class 'spacy.tokens.token.Token'>\n",
      ", <class 'spacy.tokens.token.Token'>\n",
      "can <class 'spacy.tokens.token.Token'>\n",
      "you <class 'spacy.tokens.token.Token'>\n",
      "tell <class 'spacy.tokens.token.Token'>\n",
      "me <class 'spacy.tokens.token.Token'>\n",
      "date <class 'spacy.tokens.token.Token'>\n"
     ]
    }
   ],
   "source": [
    "for token in doc1:\n",
    "    print(token, type(token))"
   ]
  },
  {
   "cell_type": "code",
   "execution_count": 7,
   "id": "f89c7405",
   "metadata": {},
   "outputs": [
    {
     "name": "stdout",
     "output_type": "stream",
     "text": [
      "hey <class 'str'>\n",
      "shubham <class 'str'>\n",
      ", <class 'str'>\n",
      "can <class 'str'>\n",
      "you <class 'str'>\n",
      "tell <class 'str'>\n",
      "me <class 'str'>\n",
      "date <class 'str'>\n"
     ]
    }
   ],
   "source": [
    "for token in doc1:\n",
    "    print(token.text,type(token.text))"
   ]
  },
  {
   "cell_type": "code",
   "execution_count": 8,
   "id": "640fa447",
   "metadata": {},
   "outputs": [
    {
     "data": {
      "text/plain": [
       "True"
      ]
     },
     "execution_count": 8,
     "metadata": {},
     "output_type": "execute_result"
    }
   ],
   "source": [
    "doc1[0].text == \"hey\""
   ]
  },
  {
   "cell_type": "code",
   "execution_count": null,
   "id": "ef13b71f",
   "metadata": {},
   "outputs": [],
   "source": []
  }
 ],
 "metadata": {
  "kernelspec": {
   "display_name": "Python 3 (ipykernel)",
   "language": "python",
   "name": "python3"
  },
  "language_info": {
   "codemirror_mode": {
    "name": "ipython",
    "version": 3
   },
   "file_extension": ".py",
   "mimetype": "text/x-python",
   "name": "python",
   "nbconvert_exporter": "python",
   "pygments_lexer": "ipython3",
   "version": "3.9.6"
  }
 },
 "nbformat": 4,
 "nbformat_minor": 5
}
